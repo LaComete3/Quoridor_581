{
 "cells": [
  {
   "cell_type": "markdown",
   "metadata": {},
   "source": [
    "# Quoridor_581 - Main\n",
    "\n",
    "<center>\n",
    "<img src=\"ressources/Game_image.png\" width=500>\n",
    "</center>"
   ]
  },
  {
   "cell_type": "markdown",
   "metadata": {},
   "source": [
    "## Let's make a clean and clear notebook.\n",
    "\n",
    "Here are some tools we can use to make the notebook and code clearer and as understandable as possible.\n",
    "<div class=\"alert alert-block alert-info\">\n",
    "<b>Example:</b> Blue boxes are used to display information.\n",
    "</div>\n",
    "\n",
    "<div class=\"alert alert-block alert-warning\">  \n",
    "<b>Example:</b> Yellow alert boxes are usually used for warnings  \n",
    "</div>\n",
    "\n",
    "<div class=\"alert alert-block alert-success\">  \n",
    "<b>Example:</b> Green boxes are used to display successful executions.   \n",
    "</div>\n",
    "\n",
    "<div class=\"alert alert-block alert-danger\">  \n",
    "<b>Example:</b> Red boxes usually to alert users or display errors.  \n",
    "</div>"
   ]
  },
  {
   "cell_type": "code",
   "execution_count": null,
   "metadata": {},
   "outputs": [],
   "source": [
    "# FOR INTERACTIVE PLOTS\n",
    "\n",
    "# import plotly.express as px\n",
    "# import numpy as np\n",
    "# import pandas as pd\n",
    "\n",
    "# # Generate some random data\n",
    "# df = pd.DataFrame({\n",
    "#     \"x\": np.linspace(0, 10, 100),\n",
    "#     \"y\": np.sin(np.linspace(0, 10, 100))\n",
    "# })\n",
    "\n",
    "# # Create an interactive plot\n",
    "# fig = px.line(df, x=\"x\", y=\"y\", title=\"Interactive Sine Wave\")\n",
    "# fig.show()\n"
   ]
  },
  {
   "cell_type": "markdown",
   "metadata": {},
   "source": [
    "<a name=\"introduction\"></a>\n",
    "\n",
    "# Introduction"
   ]
  },
  {
   "cell_type": "markdown",
   "metadata": {},
   "source": [
    "# Table of contents<font><a class='anchor' id='top'></a>\n",
    "- [Introduction](#introduction)\n",
    "- [Table of content](#top)\n",
    "- [Main](#main)\n",
    "  - [Librairies and Imports](#librairies-and-imports)\n",
    "  - [Handling and Viewing the Game](#handling-and-viewing-the-game)\n",
    "  - [Random agent](#random-agent)\n",
    "  - [Playing against a bot](#playing-against-a-bot)\n",
    "- [Conclusion](#conclusion)\n",
    "\n"
   ]
  },
  {
   "cell_type": "markdown",
   "metadata": {},
   "source": [
    "---"
   ]
  },
  {
   "cell_type": "markdown",
   "metadata": {},
   "source": [
    "<a name=\"main\"></a>\n",
    "\n",
    "# Main"
   ]
  },
  {
   "cell_type": "markdown",
   "metadata": {},
   "source": [
    "<a name=\"librairies-and-imports\"></a>\n",
    "\n",
    "## Librairies and Imports"
   ]
  },
  {
   "cell_type": "code",
   "execution_count": null,
   "metadata": {},
   "outputs": [],
   "source": [
    "import sys\n",
    "import os\n",
    "\n",
    "# sys.path.append(os.path.abspath(os.path.join(os.path.dirname(__file__), 'qoridor')))\n",
    "\n",
    "from qoridor.game import QoridorGame\n",
    "from qoridor.move import Move, MoveType\n",
    "from qoridor.board import WallOrientation\n",
    "from qoridor.visualization import QoridorVisualizer\n",
    "from agents.random_agent import RandomAgent"
   ]
  },
  {
   "cell_type": "markdown",
   "metadata": {},
   "source": [
    "<a name=\"handling-and-viewing-the-game\"></a>\n",
    "\n",
    "## Handling and viewing the game"
   ]
  },
  {
   "cell_type": "code",
   "execution_count": null,
   "metadata": {},
   "outputs": [],
   "source": [
    "game = QoridorGame(board_size=5, num_walls=3)\n",
    "visualizer = QoridorVisualizer()"
   ]
  },
  {
   "cell_type": "code",
   "execution_count": null,
   "metadata": {},
   "outputs": [],
   "source": [
    "# Liste des actions possibles pour le joueur actuel\n",
    "legal_moves = game.get_legal_moves()\n",
    "print(\"Actions possibles :\")\n",
    "for move in legal_moves:\n",
    "    print(move)"
   ]
  },
  {
   "cell_type": "code",
   "execution_count": null,
   "metadata": {},
   "outputs": [],
   "source": [
    "# Prise d'une action (par exemple, le premier mouvement légal)\n",
    "if legal_moves:\n",
    "    chosen_move = legal_moves[0]\n",
    "    game.make_move(chosen_move)\n",
    "    print(f\"Action choisie : {chosen_move}\")"
   ]
  },
  {
   "cell_type": "code",
   "execution_count": null,
   "metadata": {},
   "outputs": [],
   "source": [
    "visualizer.render_game(game)"
   ]
  },
  {
   "cell_type": "markdown",
   "metadata": {},
   "source": [
    "<a name=\"random-agent\"></a>\n",
    "\n",
    "## Random Agent"
   ]
  },
  {
   "cell_type": "code",
   "execution_count": null,
   "metadata": {},
   "outputs": [],
   "source": [
    "game = QoridorGame(board_size=5, num_walls=3)\n",
    "\n",
    "random_agent1 = RandomAgent()\n",
    "\n",
    "move = random_agent1.get_move(game)\n",
    "print(\"Move chosen by agent 1 : \", move)\n",
    "game.make_move(move)\n",
    "visualizer.render_game(game)"
   ]
  },
  {
   "cell_type": "code",
   "execution_count": null,
   "metadata": {},
   "outputs": [],
   "source": [
    "game = QoridorGame(board_size=5, num_walls=3)\n",
    "\n",
    "random_agent1 = RandomAgent()\n",
    "random_agent2 = RandomAgent()\n",
    "\n",
    "while not game.is_game_over():\n",
    "    move = random_agent1.get_move(game)\n",
    "    game.make_move(move)\n",
    "    visualizer.render_game(game)\n",
    "    if game.is_game_over():\n",
    "        break\n",
    "    move = random_agent2.get_move(game)\n",
    "    game.make_move(move)\n",
    "    visualizer.render_game(game)\n",
    "    if game.is_game_over():\n",
    "        break\n",
    "\n",
    "winner = game.get_winner()\n",
    "print(f\"Winner : {winner}\")\n"
   ]
  },
  {
   "cell_type": "markdown",
   "metadata": {},
   "source": [
    "<a name=\"playing-against-a-bot\"></a>\n",
    "\n",
    "## Playing against a bot"
   ]
  },
  {
   "cell_type": "code",
   "execution_count": null,
   "metadata": {},
   "outputs": [],
   "source": [
    "game = QoridorGame(board_size=5, num_walls=3)\n",
    "visualizer = QoridorVisualizer()\n",
    "random_agent1 = RandomAgent()\n",
    "\n",
    "while not game.is_game_over():\n",
    "    move = random_agent1.get_move(game)\n",
    "    game.make_move(move)\n",
    "    visualizer.render_game(game)\n",
    "    if game.is_game_over():\n",
    "        break\n",
    "\n",
    "    possible_moves = game.get_legal_moves()\n",
    "    for i, move in enumerate(possible_moves):\n",
    "        print(f\"{i}: {move}\")\n",
    "\n",
    "    move_index = int(input(\"Entrez l'index du mouvement à jouer : \"))\n",
    "    game.make_move(possible_moves[move_index])\n",
    "    visualizer.render_game(game)\n",
    "\n",
    "winner = game.get_winner()\n",
    "visualizer.render_game(game)\n",
    "print(f\"Winner : {winner}\")"
   ]
  },
  {
   "cell_type": "markdown",
   "metadata": {},
   "source": [
    "<a name=\"conclusion\"></a>\n",
    "\n",
    "# Conclusion\n",
    "\n",
    "TO BE DONE"
   ]
  }
 ],
 "metadata": {
  "kernelspec": {
   "display_name": "CSC_52081_EP_env",
   "language": "python",
   "name": "python3"
  },
  "language_info": {
   "codemirror_mode": {
    "name": "ipython",
    "version": 3
   },
   "file_extension": ".py",
   "mimetype": "text/x-python",
   "name": "python",
   "nbconvert_exporter": "python",
   "pygments_lexer": "ipython3",
   "version": "3.12.7"
  }
 },
 "nbformat": 4,
 "nbformat_minor": 2
}
