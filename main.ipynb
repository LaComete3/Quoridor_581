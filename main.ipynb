{
 "cells": [
  {
   "cell_type": "code",
   "execution_count": 4,
   "metadata": {},
   "outputs": [],
   "source": [
    "from qoridor.game import QoridorGame\n",
    "from qoridor.move import Move, MoveType\n",
    "from qoridor.board import WallOrientation\n",
    "\n",
    "from qoridor.environment import QoridorEnv"
   ]
  },
  {
   "cell_type": "code",
   "execution_count": 5,
   "metadata": {},
   "outputs": [],
   "source": [
    "game = QoridorGame(board_size=5, num_walls=2)"
   ]
  },
  {
   "cell_type": "code",
   "execution_count": 6,
   "metadata": {},
   "outputs": [],
   "source": [
    "env = QoridorEnv()"
   ]
  },
  {
   "cell_type": "code",
   "execution_count": 8,
   "metadata": {},
   "outputs": [
    {
     "name": "stdout",
     "output_type": "stream",
     "text": [
      "Qoridor Game State:\n",
      "Board Size: 5x5\n",
      "Current Player: 1\n",
      "Player 1 Walls Left: 2\n",
      "Player 2 Walls Left: 2\n",
      "\n",
      "+   0   +1   +2   +3   +4   +\n",
      "0 |    |   | 1 |   |    |\n",
      "  | ------------------------- |\n",
      "1 |    |   |   |   |    |\n",
      "  | ------------------------- |\n",
      "2 |    |   |   |   |    |\n",
      "  | ------------------------- |\n",
      "3 |    |   |   |   |    |\n",
      "  | ------------------------- |\n",
      "4 |    |   | 2 |   |    |\n",
      "+--------+-----+-----+-----+\n",
      "\n"
     ]
    }
   ],
   "source": [
    "print(game.state)"
   ]
  },
  {
   "cell_type": "code",
   "execution_count": 15,
   "metadata": {},
   "outputs": [
    {
     "data": {
      "text/plain": [
       "[1]"
      ]
     },
     "execution_count": 15,
     "metadata": {},
     "output_type": "execute_result"
    }
   ],
   "source": [
    "game.get_current_player()"
   ]
  },
  {
   "cell_type": "code",
   "execution_count": 16,
   "metadata": {},
   "outputs": [
    {
     "name": "stdout",
     "output_type": "stream",
     "text": [
      "Qoridor Game State:\n",
      "Board Size: 9x9\n",
      "Current Player: 1\n",
      "Player 1 Walls Left: 10\n",
      "Player 2 Walls Left: 10\n",
      "\n",
      "+   0   +1   +2   +3   +4   +5   +6   +7   +8   +\n",
      "0 |    |   |   |   | 1 |   |   |   |    |\n",
      "  | --------------------------------------------- |\n",
      "1 |    |   |   |   |   |   |   |   |    |\n",
      "  | --------------------------------------------- |\n",
      "2 |    |   |   |   |   |   |   |   |    |\n",
      "  | --------------------------------------------- |\n",
      "3 |    |   |   |   |   |   |   |   |    |\n",
      "  | --------------------------------------------- |\n",
      "4 |    |   |   |   |   |   |   |   |    |\n",
      "  | --------------------------------------------- |\n",
      "5 |    |   |   |   |   |   |   |   |    |\n",
      "  | --------------------------------------------- |\n",
      "6 |    |   |   |   |   |   |   |   |    |\n",
      "  | --------------------------------------------- |\n",
      "7 |    |   |   |   |   |   |   |   |    |\n",
      "  | --------------------------------------------- |\n",
      "8 |    |   |   |   | 2 |   |   |   |    |\n",
      "+--------+-----+-----+-----+-----+-----+-----+-----+\n",
      "\n"
     ]
    }
   ],
   "source": [
    "env.render()"
   ]
  },
  {
   "cell_type": "code",
   "execution_count": 17,
   "metadata": {},
   "outputs": [
    {
     "ename": "IndexError",
     "evalue": "index 8 is out of bounds for axis 1 with size 8",
     "output_type": "error",
     "traceback": [
      "\u001b[0;31m---------------------------------------------------------------------------\u001b[0m",
      "\u001b[0;31mIndexError\u001b[0m                                Traceback (most recent call last)",
      "Cell \u001b[0;32mIn[17], line 1\u001b[0m\n\u001b[0;32m----> 1\u001b[0m env\u001b[38;5;241m.\u001b[39mget_legal_actions()\n",
      "File \u001b[0;32m~/Desktop/3A/CSC_52081_EP/Projet/Quoridor_581/qoridor/environment.py:253\u001b[0m, in \u001b[0;36mQoridorEnv.get_legal_actions\u001b[0;34m(self)\u001b[0m\n\u001b[1;32m    246\u001b[0m \u001b[38;5;28;01mdef\u001b[39;00m \u001b[38;5;21mget_legal_actions\u001b[39m(\u001b[38;5;28mself\u001b[39m) \u001b[38;5;241m-\u001b[39m\u001b[38;5;241m>\u001b[39m List[\u001b[38;5;28mint\u001b[39m]:\n\u001b[1;32m    247\u001b[0m \u001b[38;5;250m    \u001b[39m\u001b[38;5;124;03m\"\"\"\u001b[39;00m\n\u001b[1;32m    248\u001b[0m \u001b[38;5;124;03m    Get all legal actions from the current state.\u001b[39;00m\n\u001b[1;32m    249\u001b[0m \u001b[38;5;124;03m    \u001b[39;00m\n\u001b[1;32m    250\u001b[0m \u001b[38;5;124;03m    Returns:\u001b[39;00m\n\u001b[1;32m    251\u001b[0m \u001b[38;5;124;03m        List of legal action indices\u001b[39;00m\n\u001b[1;32m    252\u001b[0m \u001b[38;5;124;03m    \"\"\"\u001b[39;00m\n\u001b[0;32m--> 253\u001b[0m     legal_moves \u001b[38;5;241m=\u001b[39m \u001b[38;5;28mself\u001b[39m\u001b[38;5;241m.\u001b[39mgame\u001b[38;5;241m.\u001b[39mget_legal_moves()\n\u001b[1;32m    254\u001b[0m     \u001b[38;5;28;01mreturn\u001b[39;00m [\u001b[38;5;28mself\u001b[39m\u001b[38;5;241m.\u001b[39m_move_to_action(move) \u001b[38;5;28;01mfor\u001b[39;00m move \u001b[38;5;129;01min\u001b[39;00m legal_moves]\n",
      "File \u001b[0;32m~/Desktop/3A/CSC_52081_EP/Projet/Quoridor_581/qoridor/game.py:84\u001b[0m, in \u001b[0;36mQoridorGame.get_legal_moves\u001b[0;34m(self, player)\u001b[0m\n\u001b[1;32m     82\u001b[0m \u001b[38;5;66;03m# Temporarily set the current player to get the correct legal actions\u001b[39;00m\n\u001b[1;32m     83\u001b[0m \u001b[38;5;28mself\u001b[39m\u001b[38;5;241m.\u001b[39mstate\u001b[38;5;241m.\u001b[39mcurrent_player \u001b[38;5;241m=\u001b[39m player\n\u001b[0;32m---> 84\u001b[0m actions \u001b[38;5;241m=\u001b[39m \u001b[38;5;28mself\u001b[39m\u001b[38;5;241m.\u001b[39mstate\u001b[38;5;241m.\u001b[39mget_legal_actions()\n\u001b[1;32m     86\u001b[0m \u001b[38;5;66;03m# Restore the original player\u001b[39;00m\n\u001b[1;32m     87\u001b[0m \u001b[38;5;28mself\u001b[39m\u001b[38;5;241m.\u001b[39mstate\u001b[38;5;241m.\u001b[39mcurrent_player \u001b[38;5;241m=\u001b[39m original_player\n",
      "File \u001b[0;32m~/Desktop/3A/CSC_52081_EP/Projet/Quoridor_581/qoridor/state.py:76\u001b[0m, in \u001b[0;36mGameState.get_legal_actions\u001b[0;34m(self)\u001b[0m\n\u001b[1;32m     73\u001b[0m \u001b[38;5;28mself\u001b[39m\u001b[38;5;241m.\u001b[39mboard\u001b[38;5;241m.\u001b[39mhorizontal_walls[row, col] \u001b[38;5;241m=\u001b[39m \u001b[38;5;28;01mTrue\u001b[39;00m\n\u001b[1;32m     75\u001b[0m \u001b[38;5;66;03m# Check if both players still have a path to their goal\u001b[39;00m\n\u001b[0;32m---> 76\u001b[0m \u001b[38;5;28;01mif\u001b[39;00m \u001b[38;5;28mself\u001b[39m\u001b[38;5;241m.\u001b[39mboard\u001b[38;5;241m.\u001b[39mhas_path_to_goal(\u001b[38;5;241m1\u001b[39m) \u001b[38;5;129;01mand\u001b[39;00m \u001b[38;5;28mself\u001b[39m\u001b[38;5;241m.\u001b[39mboard\u001b[38;5;241m.\u001b[39mhas_path_to_goal(\u001b[38;5;241m2\u001b[39m):\n\u001b[1;32m     77\u001b[0m     actions\u001b[38;5;241m.\u001b[39mappend({\n\u001b[1;32m     78\u001b[0m         \u001b[38;5;124m'\u001b[39m\u001b[38;5;124mtype\u001b[39m\u001b[38;5;124m'\u001b[39m: \u001b[38;5;124m'\u001b[39m\u001b[38;5;124mwall\u001b[39m\u001b[38;5;124m'\u001b[39m,\n\u001b[1;32m     79\u001b[0m         \u001b[38;5;124m'\u001b[39m\u001b[38;5;124mposition\u001b[39m\u001b[38;5;124m'\u001b[39m: (row, col),\n\u001b[1;32m     80\u001b[0m         \u001b[38;5;124m'\u001b[39m\u001b[38;5;124morientation\u001b[39m\u001b[38;5;124m'\u001b[39m: WallOrientation\u001b[38;5;241m.\u001b[39mHORIZONTAL\n\u001b[1;32m     81\u001b[0m     })\n\u001b[1;32m     83\u001b[0m \u001b[38;5;66;03m# Remove the temporary wall\u001b[39;00m\n",
      "File \u001b[0;32m~/Desktop/3A/CSC_52081_EP/Projet/Quoridor_581/qoridor/board.py:407\u001b[0m, in \u001b[0;36mBoard.has_path_to_goal\u001b[0;34m(self, player)\u001b[0m\n\u001b[1;32m    404\u001b[0m     \u001b[38;5;28;01mreturn\u001b[39;00m \u001b[38;5;28;01mTrue\u001b[39;00m\n\u001b[1;32m    406\u001b[0m \u001b[38;5;66;03m# Get neighbors\u001b[39;00m\n\u001b[0;32m--> 407\u001b[0m \u001b[38;5;28;01mfor\u001b[39;00m next_pos \u001b[38;5;129;01min\u001b[39;00m \u001b[38;5;28mself\u001b[39m\u001b[38;5;241m.\u001b[39mget_adjacent_cells(current):\n\u001b[1;32m    408\u001b[0m     \u001b[38;5;28;01mif\u001b[39;00m next_pos \u001b[38;5;129;01mnot\u001b[39;00m \u001b[38;5;129;01min\u001b[39;00m visited:\n\u001b[1;32m    409\u001b[0m         visited\u001b[38;5;241m.\u001b[39madd(next_pos)\n",
      "File \u001b[0;32m~/Desktop/3A/CSC_52081_EP/Projet/Quoridor_581/qoridor/board.py:438\u001b[0m, in \u001b[0;36mBoard.get_adjacent_cells\u001b[0;34m(self, position)\u001b[0m\n\u001b[1;32m    435\u001b[0m         \u001b[38;5;28;01mcontinue\u001b[39;00m\n\u001b[1;32m    437\u001b[0m     \u001b[38;5;66;03m# Check if there's a wall blocking the move\u001b[39;00m\n\u001b[0;32m--> 438\u001b[0m     \u001b[38;5;28;01mif\u001b[39;00m \u001b[38;5;129;01mnot\u001b[39;00m \u001b[38;5;28mself\u001b[39m\u001b[38;5;241m.\u001b[39mis_wall_between(position, (new_row, new_col)):\n\u001b[1;32m    439\u001b[0m         adjacent\u001b[38;5;241m.\u001b[39mappend((new_row, new_col))\n\u001b[1;32m    441\u001b[0m \u001b[38;5;28;01mreturn\u001b[39;00m adjacent\n",
      "File \u001b[0;32m~/Desktop/3A/CSC_52081_EP/Projet/Quoridor_581/qoridor/board.py:298\u001b[0m, in \u001b[0;36mBoard.is_wall_between\u001b[0;34m(self, pos1, pos2)\u001b[0m\n\u001b[1;32m    296\u001b[0m \u001b[38;5;28;01mif\u001b[39;00m col1 \u001b[38;5;241m==\u001b[39m col2:\n\u001b[1;32m    297\u001b[0m     min_row \u001b[38;5;241m=\u001b[39m \u001b[38;5;28mmin\u001b[39m(row1, row2)\n\u001b[0;32m--> 298\u001b[0m     \u001b[38;5;28;01mif\u001b[39;00m min_row \u001b[38;5;241m<\u001b[39m \u001b[38;5;28mself\u001b[39m\u001b[38;5;241m.\u001b[39msize \u001b[38;5;241m-\u001b[39m \u001b[38;5;241m1\u001b[39m \u001b[38;5;129;01mand\u001b[39;00m \u001b[38;5;28mself\u001b[39m\u001b[38;5;241m.\u001b[39mhorizontal_walls[min_row, col1]:\n\u001b[1;32m    299\u001b[0m         \u001b[38;5;28;01mreturn\u001b[39;00m \u001b[38;5;28;01mTrue\u001b[39;00m\n\u001b[1;32m    301\u001b[0m \u001b[38;5;66;03m# Horizontal movement\u001b[39;00m\n",
      "\u001b[0;31mIndexError\u001b[0m: index 8 is out of bounds for axis 1 with size 8"
     ]
    }
   ],
   "source": [
    "env.get_legal_actions()"
   ]
  }
 ],
 "metadata": {
  "kernelspec": {
   "display_name": "CSC_52081_EP_env",
   "language": "python",
   "name": "python3"
  },
  "language_info": {
   "codemirror_mode": {
    "name": "ipython",
    "version": 3
   },
   "file_extension": ".py",
   "mimetype": "text/x-python",
   "name": "python",
   "nbconvert_exporter": "python",
   "pygments_lexer": "ipython3",
   "version": "3.12.7"
  }
 },
 "nbformat": 4,
 "nbformat_minor": 2
}
