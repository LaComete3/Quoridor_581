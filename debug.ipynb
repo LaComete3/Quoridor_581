{
 "cells": [
  {
   "cell_type": "code",
   "execution_count": 1,
   "metadata": {},
   "outputs": [],
   "source": [
    "import sys\n",
    "import os\n",
    "\n",
    "# sys.path.append(os.path.abspath(os.path.join(os.path.dirname(__file__), 'qoridor')))\n",
    "\n",
    "from qoridor.game import QoridorGame\n",
    "from qoridor.move import Move, MoveType\n",
    "from qoridor.board import WallOrientation\n",
    "from qoridor.visualization import QoridorVisualizer\n",
    "from agents.random_agent import RandomAgent"
   ]
  },
  {
   "cell_type": "code",
   "execution_count": null,
   "metadata": {},
   "outputs": [],
   "source": [
    "game = QoridorGame(board_size=5, num_walls=3)\n",
    "visualizer = QoridorVisualizer()"
   ]
  },
  {
   "cell_type": "code",
   "execution_count": null,
   "metadata": {},
   "outputs": [],
   "source": [
    "# Liste des actions possibles pour le joueur actuel\n",
    "legal_moves = game.get_legal_moves()\n",
    "print(\"Actions possibles :\")\n",
    "for move in legal_moves:\n",
    "    print(move)"
   ]
  },
  {
   "cell_type": "code",
   "execution_count": null,
   "metadata": {},
   "outputs": [],
   "source": [
    "# Prise d'une action (par exemple, le premier mouvement légal)\n",
    "if legal_moves:\n",
    "    chosen_move = legal_moves[0]\n",
    "    game.make_move(chosen_move)\n",
    "    print(f\"Action choisie : {chosen_move}\")"
   ]
  },
  {
   "cell_type": "code",
   "execution_count": null,
   "metadata": {},
   "outputs": [],
   "source": [
    "visualizer.render_game(game)"
   ]
  },
  {
   "cell_type": "code",
   "execution_count": null,
   "metadata": {},
   "outputs": [],
   "source": [
    "game = QoridorGame(board_size=5, num_walls=3)\n",
    "\n",
    "random_agent1 = RandomAgent()\n",
    "\n",
    "move = random_agent1.get_move(game)\n",
    "print(\"Move chosen by agent 1 : \", move)\n",
    "game.make_move(move)\n",
    "visualizer.render_game(game)"
   ]
  },
  {
   "cell_type": "code",
   "execution_count": null,
   "metadata": {},
   "outputs": [],
   "source": [
    "game = QoridorGame(board_size=5, num_walls=3)\n",
    "\n",
    "random_agent1 = RandomAgent()\n",
    "random_agent2 = RandomAgent()\n",
    "\n",
    "while not game.is_game_over():\n",
    "    move = random_agent1.get_move(game)\n",
    "    game.make_move(move)\n",
    "    visualizer.render_game(game)\n",
    "    if game.is_game_over():\n",
    "        break\n",
    "    move = random_agent2.get_move(game)\n",
    "    game.make_move(move)\n",
    "    visualizer.render_game(game)\n",
    "    if game.is_game_over():\n",
    "        break\n",
    "\n",
    "winner = game.get_winner()\n",
    "print(f\"Winner : {winner}\")\n"
   ]
  }
 ],
 "metadata": {
  "kernelspec": {
   "display_name": "Qoridor",
   "language": "python",
   "name": "python3"
  },
  "language_info": {
   "codemirror_mode": {
    "name": "ipython",
    "version": 3
   },
   "file_extension": ".py",
   "mimetype": "text/x-python",
   "name": "python",
   "nbconvert_exporter": "python",
   "pygments_lexer": "ipython3",
   "version": "3.12.9"
  }
 },
 "nbformat": 4,
 "nbformat_minor": 2
}
