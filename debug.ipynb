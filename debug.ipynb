{
 "cells": [
  {
   "cell_type": "code",
   "execution_count": 11,
   "metadata": {},
   "outputs": [],
   "source": [
    "import sys\n",
    "import os\n",
    "\n",
    "# sys.path.append(os.path.abspath(os.path.join(os.path.dirname(__file__), 'qoridor')))\n",
    "\n",
    "from qoridor.game import QoridorGame\n",
    "from qoridor.move import Move, MoveType\n",
    "from qoridor.board import WallOrientation\n",
    "from qoridor.visualization import QoridorVisualizer\n",
    "from agents.random_agent import RandomAgent\n",
    "from qoridor.rules import QoridorRules"
   ]
  },
  {
   "cell_type": "code",
   "execution_count": 2,
   "metadata": {},
   "outputs": [],
   "source": [
    "game = QoridorGame(board_size=5, num_walls=3)\n",
    "visualizer = QoridorVisualizer()"
   ]
  },
  {
   "cell_type": "code",
   "execution_count": 3,
   "metadata": {},
   "outputs": [
    {
     "name": "stdout",
     "output_type": "stream",
     "text": [
      "Actions possibles :\n",
      "Player 1 moves to (1, 2)\n",
      "Player 1 moves to (0, 1)\n",
      "Player 1 moves to (0, 3)\n",
      "Player 1 places horizontal wall at (0, 0)\n",
      "Player 1 places horizontal wall at (0, 1)\n",
      "Player 1 places horizontal wall at (0, 2)\n",
      "Player 1 places horizontal wall at (0, 3)\n",
      "Player 1 places horizontal wall at (1, 0)\n",
      "Player 1 places horizontal wall at (1, 1)\n",
      "Player 1 places horizontal wall at (1, 2)\n",
      "Player 1 places horizontal wall at (1, 3)\n",
      "Player 1 places horizontal wall at (2, 0)\n",
      "Player 1 places horizontal wall at (2, 1)\n",
      "Player 1 places horizontal wall at (2, 2)\n",
      "Player 1 places horizontal wall at (2, 3)\n",
      "Player 1 places horizontal wall at (3, 0)\n",
      "Player 1 places horizontal wall at (3, 1)\n",
      "Player 1 places horizontal wall at (3, 2)\n",
      "Player 1 places horizontal wall at (3, 3)\n",
      "Player 1 places vertical wall at (0, 0)\n",
      "Player 1 places vertical wall at (0, 1)\n",
      "Player 1 places vertical wall at (0, 2)\n",
      "Player 1 places vertical wall at (0, 3)\n",
      "Player 1 places vertical wall at (1, 0)\n",
      "Player 1 places vertical wall at (1, 1)\n",
      "Player 1 places vertical wall at (1, 2)\n",
      "Player 1 places vertical wall at (1, 3)\n",
      "Player 1 places vertical wall at (2, 0)\n",
      "Player 1 places vertical wall at (2, 1)\n",
      "Player 1 places vertical wall at (2, 2)\n",
      "Player 1 places vertical wall at (2, 3)\n",
      "Player 1 places vertical wall at (3, 0)\n",
      "Player 1 places vertical wall at (3, 1)\n",
      "Player 1 places vertical wall at (3, 2)\n",
      "Player 1 places vertical wall at (3, 3)\n"
     ]
    }
   ],
   "source": [
    "# Liste des actions possibles pour le joueur actuel\n",
    "legal_moves = game.get_legal_moves()\n",
    "print(\"Actions possibles :\")\n",
    "for move in legal_moves:\n",
    "    print(move)"
   ]
  },
  {
   "cell_type": "code",
   "execution_count": 4,
   "metadata": {},
   "outputs": [
    {
     "name": "stdout",
     "output_type": "stream",
     "text": [
      "Action choisie : Player 1 places horizontal wall at (1, 1)\n"
     ]
    }
   ],
   "source": [
    "# Prise d'une action (par exemple, le premier mouvement légal)\n",
    "if legal_moves:\n",
    "    chosen_move = legal_moves[8]\n",
    "    game.make_move(chosen_move)\n",
    "    print(f\"Action choisie : {chosen_move}\")"
   ]
  },
  {
   "cell_type": "code",
   "execution_count": 6,
   "metadata": {},
   "outputs": [
    {
     "name": "stdout",
     "output_type": "stream",
     "text": [
      "Actions possibles :\n",
      "Player 2 moves to (3, 2)\n",
      "Player 2 moves to (4, 1)\n",
      "Player 2 moves to (4, 3)\n",
      "Player 2 places horizontal wall at (0, 0)\n",
      "Player 2 places horizontal wall at (0, 1)\n",
      "Player 2 places horizontal wall at (0, 2)\n",
      "Player 2 places horizontal wall at (0, 3)\n",
      "Player 2 places horizontal wall at (1, 3)\n",
      "Player 2 places horizontal wall at (2, 0)\n",
      "Player 2 places horizontal wall at (2, 1)\n",
      "Player 2 places horizontal wall at (2, 2)\n",
      "Player 2 places horizontal wall at (2, 3)\n",
      "Player 2 places horizontal wall at (3, 0)\n",
      "Player 2 places horizontal wall at (3, 1)\n",
      "Player 2 places horizontal wall at (3, 2)\n",
      "Player 2 places horizontal wall at (3, 3)\n",
      "Player 2 places vertical wall at (0, 0)\n",
      "Player 2 places vertical wall at (0, 1)\n",
      "Player 2 places vertical wall at (0, 2)\n",
      "Player 2 places vertical wall at (0, 3)\n",
      "Player 2 places vertical wall at (1, 0)\n",
      "Player 2 places vertical wall at (1, 2)\n",
      "Player 2 places vertical wall at (1, 3)\n",
      "Player 2 places vertical wall at (2, 0)\n",
      "Player 2 places vertical wall at (2, 1)\n",
      "Player 2 places vertical wall at (2, 2)\n",
      "Player 2 places vertical wall at (2, 3)\n",
      "Player 2 places vertical wall at (3, 0)\n",
      "Player 2 places vertical wall at (3, 1)\n",
      "Player 2 places vertical wall at (3, 2)\n",
      "Player 2 places vertical wall at (3, 3)\n"
     ]
    }
   ],
   "source": [
    "# Liste des actions possibles pour le joueur actuel\n",
    "legal_moves = game.get_legal_moves()\n",
    "print(\"Actions possibles :\")\n",
    "for move in legal_moves:\n",
    "    print(move)"
   ]
  },
  {
   "cell_type": "code",
   "execution_count": 7,
   "metadata": {},
   "outputs": [
    {
     "name": "stdout",
     "output_type": "stream",
     "text": [
      "Action choisie : Player 2 places horizontal wall at (3, 3)\n"
     ]
    }
   ],
   "source": [
    "# Prise d'une action (par exemple, le premier mouvement légal)\n",
    "if legal_moves:\n",
    "    chosen_move = legal_moves[15]\n",
    "    game.make_move(chosen_move)\n",
    "    print(f\"Action choisie : {chosen_move}\")"
   ]
  },
  {
   "cell_type": "code",
   "execution_count": 8,
   "metadata": {},
   "outputs": [
    {
     "name": "stdout",
     "output_type": "stream",
     "text": [
      "Actions possibles :\n",
      "Player 1 moves to (1, 2)\n",
      "Player 1 moves to (0, 1)\n",
      "Player 1 moves to (0, 3)\n",
      "Player 1 places horizontal wall at (0, 0)\n",
      "Player 1 places horizontal wall at (0, 1)\n",
      "Player 1 places horizontal wall at (0, 2)\n",
      "Player 1 places horizontal wall at (0, 3)\n",
      "Player 1 places horizontal wall at (1, 3)\n",
      "Player 1 places horizontal wall at (2, 0)\n",
      "Player 1 places horizontal wall at (2, 1)\n",
      "Player 1 places horizontal wall at (2, 2)\n",
      "Player 1 places horizontal wall at (2, 3)\n",
      "Player 1 places horizontal wall at (3, 0)\n",
      "Player 1 places horizontal wall at (3, 1)\n",
      "Player 1 places vertical wall at (0, 0)\n",
      "Player 1 places vertical wall at (0, 1)\n",
      "Player 1 places vertical wall at (0, 2)\n",
      "Player 1 places vertical wall at (0, 3)\n",
      "Player 1 places vertical wall at (1, 0)\n",
      "Player 1 places vertical wall at (1, 2)\n",
      "Player 1 places vertical wall at (1, 3)\n",
      "Player 1 places vertical wall at (2, 0)\n",
      "Player 1 places vertical wall at (2, 1)\n",
      "Player 1 places vertical wall at (2, 2)\n",
      "Player 1 places vertical wall at (2, 3)\n",
      "Player 1 places vertical wall at (3, 0)\n",
      "Player 1 places vertical wall at (3, 1)\n",
      "Player 1 places vertical wall at (3, 2)\n"
     ]
    }
   ],
   "source": [
    "# Liste des actions possibles pour le joueur actuel\n",
    "legal_moves = game.get_legal_moves()\n",
    "print(\"Actions possibles :\")\n",
    "for move in legal_moves:\n",
    "    print(move)"
   ]
  },
  {
   "cell_type": "code",
   "execution_count": 9,
   "metadata": {},
   "outputs": [
    {
     "name": "stdout",
     "output_type": "stream",
     "text": [
      "Action choisie : Player 1 places horizontal wall at (3, 1)\n"
     ]
    }
   ],
   "source": [
    "# Prise d'une action (par exemple, le premier mouvement légal)\n",
    "if legal_moves:\n",
    "    chosen_move = legal_moves[13]\n",
    "    game.make_move(chosen_move)\n",
    "    print(f\"Action choisie : {chosen_move}\")"
   ]
  },
  {
   "cell_type": "code",
   "execution_count": 14,
   "metadata": {},
   "outputs": [
    {
     "name": "stdout",
     "output_type": "stream",
     "text": [
      "Actions possibles :\n",
      "Player 2 moves to (4, 1)\n",
      "Player 2 moves to (4, 3)\n",
      "Player 2 places horizontal wall at (0, 0)\n",
      "Player 2 places horizontal wall at (0, 1)\n",
      "Player 2 places horizontal wall at (0, 2)\n",
      "Player 2 places horizontal wall at (0, 3)\n",
      "Player 2 places horizontal wall at (1, 3)\n",
      "Player 2 places horizontal wall at (2, 0)\n",
      "Player 2 places horizontal wall at (2, 1)\n",
      "Player 2 places horizontal wall at (2, 2)\n",
      "Player 2 places horizontal wall at (2, 3)\n",
      "Player 2 places vertical wall at (0, 0)\n",
      "Player 2 places vertical wall at (0, 1)\n",
      "Player 2 places vertical wall at (0, 2)\n",
      "Player 2 places vertical wall at (0, 3)\n",
      "Player 2 places vertical wall at (1, 0)\n",
      "Player 2 places vertical wall at (1, 2)\n",
      "Player 2 places vertical wall at (1, 3)\n",
      "Player 2 places vertical wall at (2, 0)\n",
      "Player 2 places vertical wall at (2, 1)\n",
      "Player 2 places vertical wall at (2, 2)\n",
      "Player 2 places vertical wall at (2, 3)\n",
      "Player 2 places vertical wall at (3, 2)\n"
     ]
    }
   ],
   "source": [
    "# Liste des actions possibles pour le joueur actuel\n",
    "legal_moves = game.get_legal_moves()\n",
    "print(\"Actions possibles :\")\n",
    "for move in legal_moves:\n",
    "    print(move)"
   ]
  },
  {
   "cell_type": "code",
   "execution_count": 15,
   "metadata": {},
   "outputs": [
    {
     "name": "stdout",
     "output_type": "stream",
     "text": [
      "Action choisie : Player 2 moves to (4, 1)\n"
     ]
    }
   ],
   "source": [
    "# Prise d'une action (par exemple, le premier mouvement légal)\n",
    "if legal_moves:\n",
    "    chosen_move = legal_moves[0]\n",
    "    game.make_move(chosen_move)\n",
    "    print(f\"Action choisie : {chosen_move}\")"
   ]
  },
  {
   "cell_type": "code",
   "execution_count": 18,
   "metadata": {},
   "outputs": [
    {
     "name": "stdout",
     "output_type": "stream",
     "text": [
      "Actions possibles :\n",
      "Player 1 moves to (1, 2)\n",
      "Player 1 moves to (0, 1)\n",
      "Player 1 moves to (0, 3)\n",
      "Player 1 places horizontal wall at (0, 0)\n",
      "Player 1 places horizontal wall at (0, 1)\n",
      "Player 1 places horizontal wall at (0, 2)\n",
      "Player 1 places horizontal wall at (0, 3)\n",
      "Player 1 places horizontal wall at (1, 3)\n",
      "Player 1 places horizontal wall at (2, 0)\n",
      "Player 1 places horizontal wall at (2, 1)\n",
      "Player 1 places horizontal wall at (2, 2)\n",
      "Player 1 places horizontal wall at (2, 3)\n",
      "Player 1 places vertical wall at (0, 0)\n",
      "Player 1 places vertical wall at (0, 1)\n",
      "Player 1 places vertical wall at (0, 2)\n",
      "Player 1 places vertical wall at (0, 3)\n",
      "Player 1 places vertical wall at (1, 0)\n",
      "Player 1 places vertical wall at (1, 2)\n",
      "Player 1 places vertical wall at (1, 3)\n",
      "Player 1 places vertical wall at (2, 0)\n",
      "Player 1 places vertical wall at (2, 1)\n",
      "Player 1 places vertical wall at (2, 2)\n",
      "Player 1 places vertical wall at (2, 3)\n",
      "Player 1 places vertical wall at (3, 2)\n"
     ]
    }
   ],
   "source": [
    "# Liste des actions possibles pour le joueur actuel\n",
    "legal_moves = game.get_legal_moves()\n",
    "print(\"Actions possibles :\")\n",
    "for move in legal_moves:\n",
    "    print(move)"
   ]
  },
  {
   "cell_type": "code",
   "execution_count": 19,
   "metadata": {},
   "outputs": [
    {
     "name": "stdout",
     "output_type": "stream",
     "text": [
      "Action choisie : Player 1 moves to (1, 2)\n"
     ]
    }
   ],
   "source": [
    "# Prise d'une action (par exemple, le premier mouvement légal)\n",
    "if legal_moves:\n",
    "    chosen_move = legal_moves[0]\n",
    "    game.make_move(chosen_move)\n",
    "    print(f\"Action choisie : {chosen_move}\")"
   ]
  },
  {
   "cell_type": "code",
   "execution_count": 20,
   "metadata": {},
   "outputs": [
    {
     "name": "stdout",
     "output_type": "stream",
     "text": [
      "Actions possibles :\n",
      "Player 2 moves to (4, 0)\n",
      "Player 2 moves to (4, 2)\n",
      "Player 2 places horizontal wall at (0, 0)\n",
      "Player 2 places horizontal wall at (0, 1)\n",
      "Player 2 places horizontal wall at (0, 2)\n",
      "Player 2 places horizontal wall at (0, 3)\n",
      "Player 2 places horizontal wall at (1, 3)\n",
      "Player 2 places horizontal wall at (2, 0)\n",
      "Player 2 places horizontal wall at (2, 1)\n",
      "Player 2 places horizontal wall at (2, 2)\n",
      "Player 2 places horizontal wall at (2, 3)\n",
      "Player 2 places vertical wall at (0, 0)\n",
      "Player 2 places vertical wall at (0, 1)\n",
      "Player 2 places vertical wall at (0, 2)\n",
      "Player 2 places vertical wall at (0, 3)\n",
      "Player 2 places vertical wall at (1, 0)\n",
      "Player 2 places vertical wall at (1, 2)\n",
      "Player 2 places vertical wall at (1, 3)\n",
      "Player 2 places vertical wall at (2, 0)\n",
      "Player 2 places vertical wall at (2, 1)\n",
      "Player 2 places vertical wall at (2, 2)\n",
      "Player 2 places vertical wall at (2, 3)\n",
      "Player 2 places vertical wall at (3, 2)\n"
     ]
    }
   ],
   "source": [
    "# Liste des actions possibles pour le joueur actuel\n",
    "legal_moves = game.get_legal_moves()\n",
    "print(\"Actions possibles :\")\n",
    "for move in legal_moves:\n",
    "    print(move)"
   ]
  },
  {
   "cell_type": "code",
   "execution_count": 21,
   "metadata": {},
   "outputs": [
    {
     "name": "stdout",
     "output_type": "stream",
     "text": [
      "Action choisie : Player 2 moves to (4, 0)\n"
     ]
    }
   ],
   "source": [
    "# Prise d'une action (par exemple, le premier mouvement légal)\n",
    "if legal_moves:\n",
    "    chosen_move = legal_moves[0]\n",
    "    game.make_move(chosen_move)\n",
    "    print(f\"Action choisie : {chosen_move}\")"
   ]
  },
  {
   "cell_type": "code",
   "execution_count": 22,
   "metadata": {},
   "outputs": [
    {
     "name": "stdout",
     "output_type": "stream",
     "text": [
      "[(1, 2), (1, 1), (1, 0), (2, 0), (3, 0), (4, 1)]\n"
     ]
    }
   ],
   "source": [
    "shortest_path = QoridorRules.find_shortest_path(game, game.state.current_player)\n",
    "print(shortest_path)\n"
   ]
  },
  {
   "cell_type": "code",
   "execution_count": 23,
   "metadata": {},
   "outputs": [
    {
     "data": {
      "image/png": "[encoded data removed]",
      "text/plain": [
       "<Figure size 800x800 with 1 Axes>"
      ]
     },
     "metadata": {},
     "output_type": "display_data"
    }
   ],
   "source": [
    "visualizer.render_game(game)"
   ]
  },
  {
   "cell_type": "code",
   "execution_count": null,
   "metadata": {},
   "outputs": [],
   "source": [
    "game = QoridorGame(board_size=5, num_walls=3)\n",
    "\n",
    "random_agent1 = RandomAgent()\n",
    "\n",
    "move = random_agent1.get_move(game)\n",
    "print(\"Move chosen by agent 1 : \", move)\n",
    "game.make_move(move)\n",
    "visualizer.render_game(game)"
   ]
  },
  {
   "cell_type": "code",
   "execution_count": null,
   "metadata": {},
   "outputs": [],
   "source": [
    "game = QoridorGame(board_size=5, num_walls=3)\n",
    "\n",
    "random_agent1 = RandomAgent()\n",
    "random_agent2 = RandomAgent()\n",
    "\n",
    "while not game.is_game_over():\n",
    "    move = random_agent1.get_move(game)\n",
    "    game.make_move(move)\n",
    "    visualizer.render_game(game)\n",
    "    if game.is_game_over():\n",
    "        break\n",
    "    move = random_agent2.get_move(game)\n",
    "    game.make_move(move)\n",
    "    visualizer.render_game(game)\n",
    "    if game.is_game_over():\n",
    "        break\n",
    "\n",
    "winner = game.get_winner()\n",
    "print(f\"Winner : {winner}\")\n"
   ]
  }
 ],
 "metadata": {
  "kernelspec": {
   "display_name": "Qoridor",
   "language": "python",
   "name": "python3"
  },
  "language_info": {
   "codemirror_mode": {
    "name": "ipython",
    "version": 3
   },
   "file_extension": ".py",
   "mimetype": "text/x-python",
   "name": "python",
   "nbconvert_exporter": "python",
   "pygments_lexer": "ipython3",
   "version": "3.12.9"
  }
 },
 "nbformat": 4,
 "nbformat_minor": 2
}
